{
 "cells": [
  {
   "cell_type": "code",
   "execution_count": 1,
   "id": "e2a261d2",
   "metadata": {},
   "outputs": [
    {
     "name": "stdout",
     "output_type": "stream",
     "text": [
      "food: momo  | type: {'chicken': 180, 'buff': 120}\n",
      "type: chicken\n",
      "price: 180\n",
      "type: buff\n",
      "price: 120\n",
      "food: chowmin  | type: {'chicken': 170, 'buff': 100}\n",
      "type: chicken\n",
      "price: 170\n",
      "type: buff\n",
      "price: 100\n"
     ]
    }
   ],
   "source": [
    "momo = {\"chicken\" : 180 , \"buff\" : 120 }\n",
    "chowmin = {\"chicken\" : 170 , \"buff\": 100 }\n",
    "food_prices = {\"momo\":momo , \"chowmin\":chowmin}\n",
    "    \n",
    "for food , type_of_food_prices in food_prices.items():\n",
    "    print(\"food:\", food,\" | \" \"type:\", type_of_food_prices)\n",
    "        \n",
    "    for type_of_food , price in type_of_food_prices.items():\n",
    "        print(\"type:\", type_of_food)\n",
    "        print(\"price:\", price)"
   ]
  },
  {
   "cell_type": "code",
   "execution_count": 2,
   "id": "2dfbdd80",
   "metadata": {},
   "outputs": [
    {
     "name": "stdout",
     "output_type": "stream",
     "text": [
      "0\n",
      "1\n",
      "2\n",
      "loop completed\n"
     ]
    }
   ],
   "source": [
    "for i in range(3):\n",
    "    # if i==1:\n",
    "     #break\n",
    "    print(i)\n",
    "else:\n",
    "    print(\"loop completed\")     "
   ]
  },
  {
   "cell_type": "code",
   "execution_count": null,
   "id": "fd983a36",
   "metadata": {},
   "outputs": [
    {
     "name": "stdout",
     "output_type": "stream",
     "text": [
      "is a prime number 37\n"
     ]
    }
   ],
   "source": [
    "num = int(input(\"enter the number\"))\n",
    "\n",
    "if num <= 1:\n",
    "    print(\"this number is not prime\")\n",
    "else:\n",
    "    for i in range (2,num):\n",
    "        if num % i == 0:\n",
    "            print(f\"the given number is not prime {num}\")\n",
    "            break\n",
    "        else:\n",
    "            print(f\"is a prime number {num}\")\n",
    "            "
   ]
  },
  {
   "cell_type": "code",
   "execution_count": 9,
   "id": "b23fe692",
   "metadata": {},
   "outputs": [
    {
     "name": "stdout",
     "output_type": "stream",
     "text": [
      "item is not found\n"
     ]
    }
   ],
   "source": [
    "basket = [\"pen\", \"book\", \"copy\", \"apple\", \"pencil\"]\n",
    "\n",
    "\n",
    "element_to_find =input(\"enter the items to find\")\n",
    "\n",
    "\n",
    "for item in range(len(basket)):\n",
    "    if basket[item] == element_to_find:\n",
    "       print(f\"item is found : {element_to_find}\")\n",
    "       break\n",
    "else:\n",
    "    print(f\"item is not found\")\n",
    "    "
   ]
  },
  {
   "cell_type": "code",
   "execution_count": 22,
   "id": "71834abd",
   "metadata": {},
   "outputs": [
    {
     "name": "stdout",
     "output_type": "stream",
     "text": [
      "the item is out of stock\n"
     ]
    }
   ],
   "source": [
    "available_info = {\n",
    "    \"pen\" : 5,\n",
    "    \"book\" : \"out of stock\",\n",
    "    \"copy\" : 6,\n",
    "    \"pencil\" : \"out of stock\",\n",
    "    }\n",
    "\n",
    "search_element = input(\"enter the element to search\")\n",
    "\n",
    "\n",
    "for item , value in available_info.items():\n",
    "    if item == search_element:\n",
    "        if value == \"out of stock\":\n",
    "            print (\"the item is out of stock\")\n",
    "            break\n",
    "        else:\n",
    "            print(f\"the stock for {item} is {value}\")"
   ]
  },
  {
   "cell_type": "code",
   "execution_count": 23,
   "id": "6ea4b9c6",
   "metadata": {},
   "outputs": [
    {
     "name": "stdout",
     "output_type": "stream",
     "text": [
      "0\n",
      "1\n",
      "2\n",
      "3\n",
      "4\n",
      "5\n",
      "6\n",
      "7\n",
      "8\n",
      "9\n"
     ]
    }
   ],
   "source": [
    "i = 0\n",
    "while (i < 10):\n",
    "    print(i)\n",
    "    i+=1"
   ]
  },
  {
   "cell_type": "code",
   "execution_count": null,
   "id": "61a95693",
   "metadata": {},
   "outputs": [],
   "source": [
    "string_value = \"my name is gagan puri\"\n",
    "\n",
    "count_vowel = 0\n",
    "\n",
    "for char in string_value:\n",
    "    if char.lower() in \"aeiou\":\n",
    "        count_vowel = count_vowel + 1\n",
    "\n",
    "        \n",
    "print(f\"number of vowel in given string : {count_vowel}\")        "
   ]
  },
  {
   "cell_type": "markdown",
   "id": "32914461",
   "metadata": {},
   "source": [
    "### Generator \n",
    "\n",
    "A generator  is  special type of iterator that allows you to iterate over a sequence of value at once at a time, without storing them in memory.\n",
    "1. yield instead of return.\n",
    "2. Generators are lazy, the generate values on the fly\n",
    "3. they are useful for large datasets, infinite sequences, or streaming data.\n",
    "\n",
    "\n",
    "def generator_function_name(parameters):\n",
    "#code here\n",
    "yield expression \n",
    "#additional flow here"
   ]
  },
  {
   "cell_type": "code",
   "execution_count": 3,
   "id": "6866ed1d",
   "metadata": {},
   "outputs": [
    {
     "name": "stdout",
     "output_type": "stream",
     "text": [
      "first item\n",
      "10\n",
      "secont item\n",
      "20\n",
      "last item\n",
      "30\n"
     ]
    }
   ],
   "source": [
    "def my_generator():\n",
    "    print('first item')\n",
    "    yield 10\n",
    "    \n",
    "    print('secont item')\n",
    "    yield 20\n",
    "\n",
    "    print('last item')\n",
    "    yield 30\n",
    "\n",
    "gen = my_generator()\n",
    "print(next(gen))\n",
    "print(next(gen))\n",
    "print(next(gen))\n"
   ]
  },
  {
   "cell_type": "code",
   "execution_count": 7,
   "id": "6ccc4477",
   "metadata": {},
   "outputs": [
    {
     "name": "stdout",
     "output_type": "stream",
     "text": [
      "0\n",
      "1\n",
      "2\n",
      "3\n",
      "4\n",
      "5\n"
     ]
    }
   ],
   "source": [
    "# def fun():\n",
    "#     yield 1\n",
    "#     yield 2\n",
    "#     yield 3\n",
    "    \n",
    "# for val in fun():\n",
    "#     print(val)\n",
    "\n",
    "\n",
    "def get_sequence(x):\n",
    "    for i in range(x):\n",
    "        yield i\n",
    "\n",
    "\n",
    "gen = get_sequence(10)\n",
    "print(next(gen))\n",
    "print(next(gen))\n",
    "print(next(gen))\n",
    "print(next(gen))\n",
    "print(next(gen))\n",
    "print(next(gen))"
   ]
  },
  {
   "cell_type": "code",
   "execution_count": 11,
   "id": "90dd3c31",
   "metadata": {},
   "outputs": [
    {
     "name": "stdout",
     "output_type": "stream",
     "text": [
      "2\n",
      "3\n",
      "5\n",
      "7\n",
      "11\n",
      "13\n",
      "17\n",
      "19\n",
      "23\n",
      "29\n"
     ]
    }
   ],
   "source": [
    "def is_prime(n):\n",
    "    if n< 2:\n",
    "        return False\n",
    "    for i in range(2, n):\n",
    "        if n % i == 0:\n",
    "            return False\n",
    "    return True\n",
    "\n",
    "def prime_generator():\n",
    "    num = 2\n",
    "    while True:\n",
    "        if is_prime (num):\n",
    "            yield num\n",
    "        num += 1\n",
    "\n",
    "gen = prime_generator()\n",
    "\n",
    "for _ in range(10):\n",
    "    print(next(gen))\n"
   ]
  },
  {
   "cell_type": "markdown",
   "id": "c8d30c1c",
   "metadata": {},
   "source": [
    "# Error Handeling"
   ]
  },
  {
   "cell_type": "markdown",
   "id": "0d206616",
   "metadata": {},
   "source": [
    "Error handeling is a crucial part of writing robust, user_friendly and crash-proof programs.\n",
    "\n",
    "#Errors\n",
    "\n",
    "in python, errors are categorized into two types:\n",
    "\n",
    "#Syntax Error\n",
    "1. problems with the structure of the code \n",
    "2. caught by the Python interpreter before running the program \n",
    "\n",
    "#Exception(Runtime errors)\n",
    "1. Errors that occur during execution \n",
    "2. can be handled using error-handeling techniques"
   ]
  },
  {
   "cell_type": "code",
   "execution_count": null,
   "id": "84307f9e",
   "metadata": {},
   "outputs": [],
   "source": [
    "print(\"Hi\")\n",
    "print(\"Hello\")\n",
    "\n",
    "if True # type: ignore\n",
    "    print(\"Hello\")\n",
    "\n",
    "print(\"Hi\")\n",
    "print(\"Hello\")\n",
    "\n",
    "x = 10 / 0"
   ]
  },
  {
   "cell_type": "markdown",
   "id": "364ba0f1",
   "metadata": {},
   "source": [
    "# Full Syntax"
   ]
  },
  {
   "cell_type": "markdown",
   "id": "cd36f022",
   "metadata": {},
   "source": [
    "try:\n",
    "    # risky code \n",
    "except exceptionaltype 1:\n",
    "    # handle specific exception\n",
    "except exceptionaltype 2 as e:\n",
    "    #capture exception object\n",
    "else:\n",
    "    # run if no exception occur\n",
    "finally:\n",
    "    # always run(like cleanup)\n",
    "    # database connection closing\n",
    "    # file connection closing\n",
    "    #any memory clean up\n",
    "    "
   ]
  },
  {
   "cell_type": "code",
   "execution_count": null,
   "id": "875cfbe6",
   "metadata": {},
   "outputs": [],
   "source": [
    "a = 100\n",
    "b = 0\n",
    "try:\n",
    "    c = a/b \n",
    "except (ZeroDivisionError , TypeError):\n",
    "    c= 0\n",
    "finally:\n",
    "    print(\"Thank you\")\n",
    "print(c)"
   ]
  },
  {
   "cell_type": "code",
   "execution_count": 13,
   "id": "dfff99e4",
   "metadata": {},
   "outputs": [
    {
     "name": "stdout",
     "output_type": "stream",
     "text": [
      "Error: insuffient balance\n"
     ]
    }
   ],
   "source": [
    "def withdraw(balance, amount):\n",
    "    if amount > balance:\n",
    "        raise ValueError(\"insuffient balance\")\n",
    "    return balance - amount\n",
    "\n",
    "try:\n",
    "    print(withdraw (100, 150))\n",
    "\n",
    "except ValueError as e:\n",
    "    print(\"Error:\", e)\n"
   ]
  },
  {
   "cell_type": "code",
   "execution_count": null,
   "id": "b005eefe",
   "metadata": {},
   "outputs": [
    {
     "name": "stdout",
     "output_type": "stream",
     "text": [
      "Custom Exception: Too Young to vote\n"
     ]
    }
   ],
   "source": [
    "class TooYoungError(Exception):\n",
    "    pass\n",
    "\n",
    "def vote(age):\n",
    "    if age < 18:\n",
    "        raise TooYoungError(\"Too Young to vote\")\n",
    "    return \"you can vote\"\n",
    "\n",
    "try:\n",
    "    print(vote(15))\n",
    "except TooYoungError as e:\n",
    "    print(\"Custom Exception:\", e)"
   ]
  },
  {
   "cell_type": "markdown",
   "id": "52bf1a8f",
   "metadata": {},
   "source": [
    "## Random Module"
   ]
  },
  {
   "cell_type": "code",
   "execution_count": 3,
   "id": "a2fbd792",
   "metadata": {},
   "outputs": [
    {
     "data": {
      "text/plain": [
       "[40, 5, 1]"
      ]
     },
     "execution_count": 3,
     "metadata": {},
     "output_type": "execute_result"
    }
   ],
   "source": [
    "import random\n",
    "\n",
    "my_list = [1, 5, 23, 40]\n",
    "\n",
    "random.random()\n",
    "random.randint(1, 10)\n",
    "random.choice([1, 2, 3])\n",
    "random.shuffle(my_list)\n",
    "random.sample(my_list, 3)"
   ]
  },
  {
   "cell_type": "markdown",
   "id": "f6014fb6",
   "metadata": {},
   "source": [
    "# Math - Mathematical Function"
   ]
  },
  {
   "cell_type": "code",
   "execution_count": 5,
   "id": "8333d338",
   "metadata": {},
   "outputs": [
    {
     "name": "stdout",
     "output_type": "stream",
     "text": [
      "10.0\n",
      "720\n",
      "81.0\n",
      "2.4306765580733933\n",
      "3.141592653589793\n",
      "1.0\n"
     ]
    }
   ],
   "source": [
    "import math\n",
    "\n",
    "print(math.sqrt(100))\n",
    "print(math.factorial(6))\n",
    "print(math.pow(3, 4))\n",
    "print(math.log(50, 5))\n",
    "print(math.pi)\n",
    "print(math.sin(math.pi/2))\n"
   ]
  },
  {
   "cell_type": "markdown",
   "id": "11ba653c",
   "metadata": {},
   "source": [
    "# Functools\n",
    "\n",
    "functools.lru_cache(maxsize=None):Caches the result of expensive function calls.\n",
    "\n",
    "\n",
    "functools.partial(func, **kwargs):Fixes some arguments of a function and returns a new function."
   ]
  },
  {
   "cell_type": "code",
   "execution_count": 6,
   "id": "aac09f61",
   "metadata": {},
   "outputs": [
    {
     "data": {
      "text/plain": [
       "18"
      ]
     },
     "execution_count": 6,
     "metadata": {},
     "output_type": "execute_result"
    }
   ],
   "source": [
    "from functools import partial\n",
    "\n",
    "def multiply(x, y):\n",
    "    return x*y\n",
    "\n",
    "double  = partial(multiply, 3 )\n",
    "\n",
    "double(6)"
   ]
  },
  {
   "cell_type": "code",
   "execution_count": 8,
   "id": "eff9fbad",
   "metadata": {},
   "outputs": [
    {
     "name": "stdout",
     "output_type": "stream",
     "text": [
      "21\n"
     ]
    }
   ],
   "source": [
    "from functools import lru_cache\n",
    "\n",
    "@lru_cache(maxsize=None)\n",
    "def fib(n):\n",
    "    if n < 2:\n",
    "        return n\n",
    "    return fib(n-1) + fib(n-2)\n",
    "print (fib(8))"
   ]
  },
  {
   "cell_type": "markdown",
   "id": "e741c8c5",
   "metadata": {},
   "source": [
    "## Pandas"
   ]
  },
  {
   "cell_type": "code",
   "execution_count": null,
   "id": "888cb66b",
   "metadata": {},
   "outputs": [
    {
     "name": "stdout",
     "output_type": "stream",
     "text": [
      "2.3.0\n"
     ]
    }
   ],
   "source": [
    "import pandas as pd \n",
    "print (pd.__version__)"
   ]
  },
  {
   "cell_type": "markdown",
   "id": "2716cd5d",
   "metadata": {},
   "source": [
    "# Series"
   ]
  },
  {
   "cell_type": "code",
   "execution_count": 3,
   "id": "81ed5421",
   "metadata": {},
   "outputs": [
    {
     "name": "stdout",
     "output_type": "stream",
     "text": [
      "[10 20 30 40 50]\n",
      "RangeIndex(start=0, stop=5, step=1)\n",
      "0    10\n",
      "1    20\n",
      "2    30\n",
      "3    40\n",
      "4    50\n",
      "dtype: int64\n"
     ]
    }
   ],
   "source": [
    "import pandas as pd\n",
    "\n",
    "data = [10, 20 , 30, 40, 50]\n",
    "s = pd.Series(data)\n",
    "print(s.values)\n",
    "print (s.index)\n",
    "\n",
    "print(s)"
   ]
  },
  {
   "cell_type": "code",
   "execution_count": 5,
   "id": "a118a378",
   "metadata": {},
   "outputs": [
    {
     "data": {
      "text/plain": [
       "a        1\n",
       "b     John\n",
       "c      3.5\n",
       "d    gagan\n",
       "e        7\n",
       "dtype: object"
      ]
     },
     "execution_count": 5,
     "metadata": {},
     "output_type": "execute_result"
    }
   ],
   "source": [
    "Labelled_data = pd.Series([1, \"John\" , 3.5 ,\"gagan\", 7] , index=[\"a\", \"b\", \"c\", \"d\", \"e\"])\n",
    "Labelled_data\n"
   ]
  },
  {
   "cell_type": "markdown",
   "id": "43f9314b",
   "metadata": {},
   "source": [
    "# Direcotry as series"
   ]
  },
  {
   "cell_type": "code",
   "execution_count": null,
   "id": "6e6bd364",
   "metadata": {},
   "outputs": [],
   "source": [
    "# creating using dictionary\n",
    "\n"
   ]
  },
  {
   "cell_type": "markdown",
   "id": "c9c78583",
   "metadata": {},
   "source": [
    "# Data Frame"
   ]
  },
  {
   "cell_type": "code",
   "execution_count": null,
   "id": "4fd4beb4",
   "metadata": {},
   "outputs": [
    {
     "name": "stdout",
     "output_type": "stream",
     "text": [
      "      Name  Age         City sex  salary\n",
      "0    Alice   25     New York   M   70000\n",
      "1      Bob   30  Los Angeles   M   80000\n",
      "2  Charlie   35      Chicago   M   90000\n",
      "\n",
      " Edited table\n",
      "      Name  Age\n",
      "0    Alice   25\n",
      "1      Bob   30\n",
      "2  Charlie   35\n",
      "\n",
      "\n",
      "      Name  Age         City sex  salary\n",
      "0    Alice   25     New York   M   70000\n",
      "1      Bob   30  Los Angeles   M   80000\n",
      "2  Charlie   35      Chicago   M   90000\n",
      "\n",
      "\n"
     ]
    },
    {
     "data": {
      "text/html": [
       "<div>\n",
       "<style scoped>\n",
       "    .dataframe tbody tr th:only-of-type {\n",
       "        vertical-align: middle;\n",
       "    }\n",
       "\n",
       "    .dataframe tbody tr th {\n",
       "        vertical-align: top;\n",
       "    }\n",
       "\n",
       "    .dataframe thead th {\n",
       "        text-align: right;\n",
       "    }\n",
       "</style>\n",
       "<table border=\"1\" class=\"dataframe\">\n",
       "  <thead>\n",
       "    <tr style=\"text-align: right;\">\n",
       "      <th></th>\n",
       "      <th>Name</th>\n",
       "      <th>Age</th>\n",
       "      <th>City</th>\n",
       "      <th>sex</th>\n",
       "      <th>salary</th>\n",
       "    </tr>\n",
       "  </thead>\n",
       "  <tbody>\n",
       "    <tr>\n",
       "      <th>0</th>\n",
       "      <td>Alice</td>\n",
       "      <td>25</td>\n",
       "      <td>New York</td>\n",
       "      <td>M</td>\n",
       "      <td>70000</td>\n",
       "    </tr>\n",
       "    <tr>\n",
       "      <th>1</th>\n",
       "      <td>Bob</td>\n",
       "      <td>30</td>\n",
       "      <td>Los Angeles</td>\n",
       "      <td>M</td>\n",
       "      <td>80000</td>\n",
       "    </tr>\n",
       "  </tbody>\n",
       "</table>\n",
       "</div>"
      ],
      "text/plain": [
       "    Name  Age         City sex  salary\n",
       "0  Alice   25     New York   M   70000\n",
       "1    Bob   30  Los Angeles   M   80000"
      ]
     },
     "execution_count": 27,
     "metadata": {},
     "output_type": "execute_result"
    }
   ],
   "source": [
    "import pandas as pd\n",
    "data = {\n",
    "    'Name': ['Alice', 'Bob', 'Charlie'],\n",
    "    'Age': [25, 30, 35],\n",
    "    'City': ['New York', 'Los Angeles', 'Chicago'],\n",
    "    'sex': ['M', 'M', 'M'],\n",
    "    'salary': [70000, 80000, 90000]\n",
    "}\n",
    "df = pd.DataFrame(data)\n",
    "print(df)\n",
    "\n",
    "print(\"\\n Edited table\")\n",
    "df = pd.DataFrame(data, columns=['Name', 'Age'])\n",
    "print(df)\n",
    "\n",
    "\n",
    "print(\"\\n\")\n",
    "df = pd.DataFrame(data)\n",
    "df.head() #shows top 5 rows\n",
    "print(df)\n",
    "\n",
    "\n",
    "print(\"\\n\")\n",
    "df = pd.DataFrame(data)\n",
    "df.tail() #shows bottom 5 rows\n",
    "df.sample(n=2) # shows random 2 rows from the dataframe\n",
    "df.describe() # provides summary statistics of the dataframe\n",
    "# print(df)"
   ]
  },
  {
   "cell_type": "markdown",
   "id": "06c43365",
   "metadata": {},
   "source": [
    "# accessing and indexing data in data frame"
   ]
  },
  {
   "cell_type": "code",
   "execution_count": 65,
   "id": "85b6be05",
   "metadata": {},
   "outputs": [
    {
     "name": "stdout",
     "output_type": "stream",
     "text": [
      "      Name  Age         City sex  salary\n",
      "0    Alice   25     New York   M   70000\n",
      "1      Bob   30  Los Angeles   M   80000\n",
      "2  Charlie   35      Chicago   M   90000\n",
      "\n",
      "Accessing a single column\n",
      "0      Alice\n",
      "1        Bob\n",
      "2    Charlie\n",
      "Name: Name, dtype: object\n",
      "\n",
      ", accessing multiple columns\n",
      "      Name  Age sex\n",
      "0    Alice   25   M\n",
      "1      Bob   30   M\n",
      "2  Charlie   35   M\n",
      "\n",
      " accessing a single row\n",
      "Name         Alice\n",
      "Age             25\n",
      "City      New York\n",
      "sex              M\n",
      "salary       70000\n",
      "Name: 0, dtype: object\n",
      "\n",
      " accessing multiple rows\n",
      "      Name  Age         City sex  salary\n",
      "1      Bob   30  Los Angeles   M   80000\n",
      "2  Charlie   35      Chicago   M   90000\n",
      "\n",
      "\n"
     ]
    },
    {
     "data": {
      "text/html": [
       "<div>\n",
       "<style scoped>\n",
       "    .dataframe tbody tr th:only-of-type {\n",
       "        vertical-align: middle;\n",
       "    }\n",
       "\n",
       "    .dataframe tbody tr th {\n",
       "        vertical-align: top;\n",
       "    }\n",
       "\n",
       "    .dataframe thead th {\n",
       "        text-align: right;\n",
       "    }\n",
       "</style>\n",
       "<table border=\"1\" class=\"dataframe\">\n",
       "  <thead>\n",
       "    <tr style=\"text-align: right;\">\n",
       "      <th></th>\n",
       "      <th>Age</th>\n",
       "      <th>City</th>\n",
       "      <th>sex</th>\n",
       "      <th>salary</th>\n",
       "    </tr>\n",
       "    <tr>\n",
       "      <th>Name</th>\n",
       "      <th></th>\n",
       "      <th></th>\n",
       "      <th></th>\n",
       "      <th></th>\n",
       "    </tr>\n",
       "  </thead>\n",
       "  <tbody>\n",
       "    <tr>\n",
       "      <th>Alice</th>\n",
       "      <td>25</td>\n",
       "      <td>New York</td>\n",
       "      <td>M</td>\n",
       "      <td>70000</td>\n",
       "    </tr>\n",
       "    <tr>\n",
       "      <th>Bob</th>\n",
       "      <td>30</td>\n",
       "      <td>Los Angeles</td>\n",
       "      <td>M</td>\n",
       "      <td>80000</td>\n",
       "    </tr>\n",
       "    <tr>\n",
       "      <th>Charlie</th>\n",
       "      <td>35</td>\n",
       "      <td>Chicago</td>\n",
       "      <td>M</td>\n",
       "      <td>90000</td>\n",
       "    </tr>\n",
       "  </tbody>\n",
       "</table>\n",
       "</div>"
      ],
      "text/plain": [
       "         Age         City sex  salary\n",
       "Name                                 \n",
       "Alice     25     New York   M   70000\n",
       "Bob       30  Los Angeles   M   80000\n",
       "Charlie   35      Chicago   M   90000"
      ]
     },
     "execution_count": 65,
     "metadata": {},
     "output_type": "execute_result"
    }
   ],
   "source": [
    "import pandas as pd\n",
    "data = {\n",
    "    'Name': ['Alice', 'Bob', 'Charlie'],\n",
    "    'Age': [25, 30, 35],\n",
    "    'City': ['New York', 'Los Angeles', 'Chicago'],\n",
    "    'sex': ['M', 'M', 'M'],\n",
    "    'salary': [70000, 80000, 90000]\n",
    "}\n",
    "df = pd.DataFrame(data)\n",
    "print(df)\n",
    "\n",
    "print(\"\\nAccessing a single column\")\n",
    "name_data_frame = df['Name'] #accessing a single column\n",
    "print(name_data_frame) \n",
    "\n",
    "\n",
    "print(\"\\n, accessing multiple columns\")\n",
    "print(df[['Name', 'Age', 'sex']]) #accessing multiple columns\n",
    "\n",
    "print(\"\\n accessing a single row\")\n",
    "print(df.iloc[0]) #accessing first row\n",
    "\n",
    "print(\"\\n accessing multiple rows\")\n",
    "print(df.iloc[1:3]) #accessing rows from index 1 to 2\n",
    "\n",
    "print(\"\\n\")\n",
    "df.set_index('Name', inplace=True) #setting 'Name' column as index\n",
    "df\n",
    "# print(\"\\n\")\n",
    "# print(df.loc['Name']) #accessing a row by label"
   ]
  },
  {
   "cell_type": "code",
   "execution_count": null,
   "id": "07d3c009",
   "metadata": {},
   "outputs": [],
   "source": []
  },
  {
   "cell_type": "code",
   "execution_count": null,
   "id": "69cbf109",
   "metadata": {},
   "outputs": [],
   "source": []
  },
  {
   "cell_type": "code",
   "execution_count": null,
   "id": "3e89344b",
   "metadata": {},
   "outputs": [],
   "source": []
  }
 ],
 "metadata": {
  "kernelspec": {
   "display_name": "Python 3",
   "language": "python",
   "name": "python3"
  },
  "language_info": {
   "codemirror_mode": {
    "name": "ipython",
    "version": 3
   },
   "file_extension": ".py",
   "mimetype": "text/x-python",
   "name": "python",
   "nbconvert_exporter": "python",
   "pygments_lexer": "ipython3",
   "version": "3.13.3"
  }
 },
 "nbformat": 4,
 "nbformat_minor": 5
}
