{
 "cells": [
  {
   "cell_type": "code",
   "execution_count": 2,
   "id": "7361f126",
   "metadata": {},
   "outputs": [
    {
     "name": "stdout",
     "output_type": "stream",
     "text": [
      "hey~6~7null\n",
      "gajendra\n"
     ]
    }
   ],
   "source": [
    "print(\"hey\", 6, 7, sep=\"~\", end=\"null\\n\")\n",
    "print(\"gajendra\")"
   ]
  },
  {
   "cell_type": "markdown",
   "id": "0a483c51",
   "metadata": {},
   "source": [
    "# variables"
   ]
  },
  {
   "cell_type": "code",
   "execution_count": 3,
   "id": "1c430f77",
   "metadata": {},
   "outputs": [
    {
     "name": "stdout",
     "output_type": "stream",
     "text": [
      "94\n",
      "gajju\n",
      "None\n",
      "193.9\n",
      "(10+2j)\n",
      "type of a is: <class 'int'>\n",
      "type of b is: <class 'str'>\n",
      "type of c is: <class 'NoneType'>\n",
      "type of d is: <class 'float'>\n",
      "type of e is: <class 'bool'>\n",
      "type of f is: <class 'complex'>\n"
     ]
    }
   ],
   "source": [
    "a = 94\n",
    "print(a)\n",
    "b =\"gajju\"\n",
    "print(b)\n",
    "c = None\n",
    "print(c)\n",
    "d= 99.9\n",
    "print(a+d)\n",
    "e= True \n",
    "f= complex(10, 2)\n",
    "print(f)\n",
    "\n",
    "print(\"type of a is:\", type(a))\n",
    "print(\"type of b is:\", type(b))\n",
    "print(\"type of c is:\", type(c))\n",
    "print(\"type of d is:\", type(d))\n",
    "print(\"type of e is:\", type(e))\n",
    "print(\"type of f is:\", type(f))"
   ]
  },
  {
   "cell_type": "code",
   "execution_count": 4,
   "id": "fff05a51",
   "metadata": {},
   "outputs": [
    {
     "name": "stdout",
     "output_type": "stream",
     "text": [
      "{'name': 'gajju', 'age': 22, 'canvote': True}\n"
     ]
    }
   ],
   "source": [
    "dict1 = {\"name\":\"gajju\", \"age\": 22, \"canvote\": True}\n",
    "print(dict1)"
   ]
  },
  {
   "cell_type": "markdown",
   "id": "15c252f9",
   "metadata": {},
   "source": [
    "# Operators"
   ]
  },
  {
   "cell_type": "code",
   "execution_count": 5,
   "id": "c494974f",
   "metadata": {},
   "outputs": [
    {
     "name": "stdout",
     "output_type": "stream",
     "text": [
      "11\n",
      "9\n",
      "90\n",
      "2.5\n",
      "2\n",
      "3125\n",
      "3\n"
     ]
    }
   ],
   "source": [
    "print(5+6)\n",
    "print(15 - 6)\n",
    "print(15 * 6)\n",
    "print(15/6)\n",
    "print(15//6)\n",
    "print(5**5)\n",
    "print(15%6)"
   ]
  },
  {
   "cell_type": "code",
   "execution_count": 6,
   "id": "d7d72bbc",
   "metadata": {},
   "outputs": [
    {
     "name": "stdout",
     "output_type": "stream",
     "text": [
      "3\n"
     ]
    }
   ],
   "source": [
    "a = \"1\"\n",
    "b = \"2\"\n",
    "print(int(a)+int(b))"
   ]
  },
  {
   "cell_type": "code",
   "execution_count": 7,
   "id": "626651ea",
   "metadata": {},
   "outputs": [
    {
     "name": "stdout",
     "output_type": "stream",
     "text": [
      "My name is gajendra\n"
     ]
    }
   ],
   "source": [
    "a = input(\"Enter a name \")\n",
    "print(\"My name is\", a)\n",
    "\n"
   ]
  },
  {
   "cell_type": "code",
   "execution_count": 8,
   "id": "bb018eab",
   "metadata": {},
   "outputs": [
    {
     "name": "stdout",
     "output_type": "stream",
     "text": [
      "1211\n",
      "23\n"
     ]
    }
   ],
   "source": [
    "x = input(\"enter first number\")\n",
    "y = input(\"enter second number\")\n",
    "print(x+y)\n",
    "\n",
    "print(int(x) + int(y))"
   ]
  },
  {
   "cell_type": "markdown",
   "id": "49737920",
   "metadata": {},
   "source": [
    "# String"
   ]
  },
  {
   "cell_type": "code",
   "execution_count": 9,
   "id": "e9f67c70",
   "metadata": {},
   "outputs": [
    {
     "name": "stdout",
     "output_type": "stream",
     "text": [
      "Hello Gajendra\n",
      "G\n",
      "a\n",
      "j\n",
      "e\n",
      "n\n",
      "d\n",
      "r\n",
      "a\n"
     ]
    }
   ],
   "source": [
    "name = \"Gajendra\"\n",
    "friend = \"Gaurav\"\n",
    "\n",
    "print(\"Hello\", name)\n",
    "# print(name[0])\n",
    "# print(name[1])\n",
    "# print(name[2])\n",
    "# print(name[3])\n",
    "# print(name[4])\n",
    "# print(friend[0])\n",
    "\n",
    "\n",
    "for character in name:\n",
    "    print(character)"
   ]
  },
  {
   "cell_type": "markdown",
   "id": "a8484845",
   "metadata": {},
   "source": [
    "# String Slicing"
   ]
  },
  {
   "cell_type": "code",
   "execution_count": 10,
   "id": "705b549d",
   "metadata": {},
   "outputs": [
    {
     "name": "stdout",
     "output_type": "stream",
     "text": [
      "Gajendra, \n",
      "5\n",
      "mang\n",
      "ar\n"
     ]
    }
   ],
   "source": [
    "name = \"Gajendra, Gaurav\"\n",
    "print(name[0:10])\n",
    "\n",
    "fruit = \"mango\"\n",
    "mangolen = len(fruit)\n",
    "print(mangolen)\n",
    "print(fruit[0:4])\n",
    "nm = \"Harry\"\n",
    "print(nm[-4:-2]) "
   ]
  },
  {
   "cell_type": "markdown",
   "id": "5f3c920c",
   "metadata": {},
   "source": [
    "# String Methods"
   ]
  },
  {
   "cell_type": "code",
   "execution_count": 11,
   "id": "5629300c",
   "metadata": {},
   "outputs": [
    {
     "name": "stdout",
     "output_type": "stream",
     "text": [
      "5\n",
      "GAJJU\n",
      "gajju\n",
      "!!gajju!!!!!!! gajju\n",
      "gajendra\n",
      "['!!gajju!!!!!!!', 'gajju']\n",
      "Introduction to js\n",
      "2\n",
      "False\n",
      "-1\n"
     ]
    }
   ],
   "source": [
    "# string are imutable\n",
    "\n",
    "a = \"Gajju\"\n",
    "print(len(a))\n",
    "print(a.upper())\n",
    "print(a.lower())\n",
    "\n",
    "b= \"!!gajju!!!!!!! gajju\"\n",
    "print(b.rstrip(\"!\"))\n",
    "\n",
    "print(a.replace(\"Gajju\", \"gajendra\"))\n",
    "print(b.split(\" \"))\n",
    "\n",
    "blogHeading = \"introduction tO jS\"\n",
    "print(blogHeading.capitalize())\n",
    "\n",
    "print(b.count(\"gajju\"))\n",
    "print(b.endswith(\"!!!\"))\n",
    "\n",
    "str1 = \"He's name is Bharat. He is an honest men.\"\n",
    "print(str1.find(\"ishh\"))\n",
    "# print(str1.index(\"ishh\"))\n",
    "\n"
   ]
  },
  {
   "cell_type": "markdown",
   "id": "0c7b9a0c",
   "metadata": {},
   "source": [
    "# If Else Statement"
   ]
  },
  {
   "cell_type": "code",
   "execution_count": 12,
   "id": "7a3f8ed2",
   "metadata": {},
   "outputs": [
    {
     "name": "stdout",
     "output_type": "stream",
     "text": [
      "your age is: 18\n",
      "you can't drive\n"
     ]
    }
   ],
   "source": [
    "a = int(input(\"enter the age\"))\n",
    "print(\"your age is:\", a)\n",
    "\n",
    "\n",
    "if (a>18):\n",
    "    print(\"you can drive\")\n",
    "else:\n",
    "    print(\"you can't drive\")\n"
   ]
  },
  {
   "cell_type": "code",
   "execution_count": 13,
   "id": "c96d655f",
   "metadata": {},
   "outputs": [
    {
     "name": "stdout",
     "output_type": "stream",
     "text": [
      "you cannot buy the appple\n"
     ]
    }
   ],
   "source": [
    "applePrice = 210\n",
    "budget = 200\n",
    "\n",
    "if(applePrice <= budget):\n",
    "    print(\"you can buy the aplle\")\n",
    "else:\n",
    "    print(\"you cannot buy the appple\")\n",
    "\n",
    "\n"
   ]
  },
  {
   "cell_type": "code",
   "execution_count": 14,
   "id": "2c10f3ea",
   "metadata": {},
   "outputs": [
    {
     "name": "stdout",
     "output_type": "stream",
     "text": [
      "the number is positive.\n",
      "the value is perfect\n"
     ]
    }
   ],
   "source": [
    "num = int(input(\"enter the value of num:\"))\n",
    "\n",
    "if(num<0):\n",
    "    print(\"number is negative.\")\n",
    "elif(num == 0):\n",
    "    print(\"number is zero.\")\n",
    "elif(num == 94):\n",
    "    print(\"the number is special.\")\n",
    "else:\n",
    "    print(\"the number is positive.\")\n",
    "\n",
    "\n",
    "print(\"the value is perfect\")"
   ]
  },
  {
   "cell_type": "markdown",
   "id": "ebd88380",
   "metadata": {},
   "source": [
    "# nested if statemnt"
   ]
  },
  {
   "cell_type": "code",
   "execution_count": 15,
   "id": "0dafa0f0",
   "metadata": {},
   "outputs": [
    {
     "name": "stdout",
     "output_type": "stream",
     "text": [
      "the number is greater than 20.\n"
     ]
    }
   ],
   "source": [
    "num= int(input(\"enter the number\"))\n",
    "\n",
    "if (num < 0):\n",
    "    print(\"the number is negative.\")\n",
    "elif (num > 0):\n",
    "    if(num <= 10):\n",
    "        print(\"the number is betwen 0-10.\")\n",
    "    elif(num >10 and num<= 20):\n",
    "        print(\"the number is between 11-20.\")\n",
    "    else:\n",
    "        print(\"the number is greater than 20.\")\n",
    "else:\n",
    "    print(\"the number is zero.\")"
   ]
  },
  {
   "cell_type": "code",
   "execution_count": 16,
   "id": "d67230c9",
   "metadata": {},
   "outputs": [
    {
     "name": "stdout",
     "output_type": "stream",
     "text": [
      "21:49:03\n",
      "21\n",
      "49\n",
      "03\n"
     ]
    }
   ],
   "source": [
    "import time\n",
    "timestamp = time.strftime('%H:%M:%S')\n",
    "print(timestamp)\n",
    "timestamp = time.strftime('%H')\n",
    "print(timestamp)\n",
    "timestamp = time.strftime('%M')\n",
    "print(timestamp)\n",
    "timestamp = time.strftime('%S')\n",
    "print(timestamp)\n",
    "\n",
    "\n",
    "# if 5 <= timestamp < 12:\n",
    "#     print(\"Good Morning\")\n",
    "\n"
   ]
  },
  {
   "cell_type": "code",
   "execution_count": 17,
   "id": "4041c5ee",
   "metadata": {},
   "outputs": [
    {
     "name": "stdout",
     "output_type": "stream",
     "text": [
      "it's saturday\n"
     ]
    }
   ],
   "source": [
    "x = int(input(\"enter the value of x:\"))\n",
    "\n",
    "match x:\n",
    "\n",
    "    case _ if x==1:\n",
    "        print(\"today is sunday\")\n",
    "\n",
    "    case _ if x==2:\n",
    "        print(\"today is monday\")\n",
    "\n",
    "    case _ if x==3:\n",
    "        print(\"today is tuesday\")\n",
    "\n",
    "    case _ if x==4:\n",
    "        print(\"today is wednesday\")\n",
    "\n",
    "    case _ if x==5:\n",
    "        print(\"yoday is thrusday\")\n",
    "\n",
    "    case _ if x==6:\n",
    "        print(\"today is friday\")\n",
    "\n",
    "    case _ :\n",
    "        print(\"it's saturday\")\n"
   ]
  },
  {
   "cell_type": "markdown",
   "id": "b453ea63",
   "metadata": {},
   "source": [
    "# For Loops"
   ]
  },
  {
   "cell_type": "code",
   "execution_count": 18,
   "id": "3a273a29",
   "metadata": {},
   "outputs": [
    {
     "name": "stdout",
     "output_type": "stream",
     "text": [
      "G\n",
      "a\n",
      "j\n",
      "e\n",
      "n\n",
      "d\n",
      "r\n",
      "a\n"
     ]
    }
   ],
   "source": [
    "name = \"Gajendra\"\n",
    "for i in name:\n",
    "    print(i)\n",
    "\n",
    "\n",
    "# colors = [\"red\",\"green\",\"b;ue\", \"yellow\"]\n",
    "# for color in colors:\n",
    "#     print(color)\n",
    "#     for i in color:\n",
    "#         print(i)"
   ]
  },
  {
   "cell_type": "code",
   "execution_count": 19,
   "id": "724e15ba",
   "metadata": {},
   "outputs": [
    {
     "name": "stdout",
     "output_type": "stream",
     "text": [
      "1\n",
      "2\n",
      "3\n",
      "4\n",
      "5\n",
      "1\n",
      "4\n",
      "7\n",
      "10\n"
     ]
    }
   ],
   "source": [
    "for k in range(5):\n",
    "    print(k+1)\n",
    "\n",
    "# for k in range(1, 20000):\n",
    "#     print(k)\n",
    "\n",
    "for k in range(1, 12, 3):\n",
    "    print(k)"
   ]
  },
  {
   "cell_type": "markdown",
   "id": "cb0a1755",
   "metadata": {},
   "source": [
    "# While loops"
   ]
  },
  {
   "cell_type": "code",
   "execution_count": 20,
   "id": "bb948ea6",
   "metadata": {},
   "outputs": [
    {
     "name": "stdout",
     "output_type": "stream",
     "text": [
      "0\n",
      "1\n",
      "2\n",
      "3\n",
      "4\n",
      "5\n",
      "4\n",
      "3\n",
      "2\n",
      "1\n"
     ]
    }
   ],
   "source": [
    "i =0 \n",
    "while (i<5):\n",
    "    print(i)\n",
    "    i = i+1\n",
    "\n",
    "\n",
    "# i = int(input(\"enter the number:\"))\n",
    "# while (i<=30):\n",
    "#     i = int(input(\"enter the number\"))\n",
    "#     print(i)\n",
    "\n",
    "\n",
    "count = 5\n",
    "while(count>0):\n",
    "    print(count)\n",
    "    count = count - 1\n",
    "\n",
    "\n",
    "\n"
   ]
  },
  {
   "cell_type": "markdown",
   "id": "7f00aa6d",
   "metadata": {},
   "source": [
    "# Break and Continue"
   ]
  },
  {
   "cell_type": "code",
   "execution_count": 21,
   "id": "4900c670",
   "metadata": {},
   "outputs": [
    {
     "name": "stdout",
     "output_type": "stream",
     "text": [
      "5 X 0 = 0\n",
      "5 X 1 = 5\n",
      "5 X 2 = 10\n",
      "5 X 3 = 15\n",
      "5 X 4 = 20\n",
      "5 X 5 = 25\n",
      "5 X 6 = 30\n",
      "5 X 7 = 35\n",
      "5 X 8 = 40\n",
      "5 X 9 = 45\n",
      "Skip the itteration\n",
      "5 X 11 = 55\n"
     ]
    }
   ],
   "source": [
    "# for i in range(10):\n",
    "#     if(i == 10):\n",
    "#         break\n",
    "    \n",
    "#     print(\"5 X\", i+1, \"=\", 5 * (i+1))\n",
    "\n",
    "    \n",
    "# print(\"the loop is executed\")\n",
    "\n",
    "\n",
    "\n",
    "for i in range(12):\n",
    "    if(i == 10):\n",
    "        print(\"Skip the itteration\")\n",
    "        continue\n",
    "    print(\"5 X\", i, \"=\", 5 * i)\n",
    "\n",
    "\n",
    "# i = 0\n",
    "# while True:\n",
    "#     print(i)\n",
    "#     i = i + 1\n",
    "#     if(i % 100 == 0):\n",
    "#         break\n"
   ]
  },
  {
   "cell_type": "markdown",
   "id": "b98e12f9",
   "metadata": {},
   "source": [
    "# Functions"
   ]
  },
  {
   "cell_type": "code",
   "execution_count": 22,
   "id": "fcce1ab8",
   "metadata": {},
   "outputs": [
    {
     "name": "stdout",
     "output_type": "stream",
     "text": [
      "4.444444444444445\n",
      "first is greater\n",
      "3.3333333333333335\n",
      "first is greater\n"
     ]
    }
   ],
   "source": [
    "def calculateGmean(a, b):\n",
    "    mean = (a*b)/(a+b)\n",
    "    print(mean)\n",
    "\n",
    "\n",
    "\n",
    "def isgreater(a, b):\n",
    "    if(a>b):\n",
    "        print(\"first is greater\")\n",
    "    else:\n",
    "        print(\"second is greater or equal\")\n",
    "\n",
    "\n",
    "a = 10\n",
    "b = 8\n",
    "\n",
    "calculateGmean(a, b)\n",
    "isgreater(a,b)\n",
    "# if(a>b):\n",
    "#     print(\"first is greater\")\n",
    "# else:\n",
    "#     print(\"second is greater or equal\")\n",
    "\n",
    "\n",
    "# gmean1 = (a*b)/(a+b)\n",
    "# print(gmean1)\n",
    "\n",
    "\n",
    "c = 20\n",
    "d = 4\n",
    "# if(c>d):\n",
    "#     print(\"first is greater\")\n",
    "# else:\n",
    "#     print(\"second is greater or equal\")\n",
    "calculateGmean(c, d)\n",
    "isgreater(c,d)\n",
    "    # gmean1 = (c*d)/(a+d)\n",
    "    # print(gmean1)\n"
   ]
  },
  {
   "cell_type": "code",
   "execution_count": 23,
   "id": "67701a5d",
   "metadata": {},
   "outputs": [],
   "source": [
    "# from gpiozero import Robot, LineSensor # type: ignore\n",
    "# from time import sleep\n",
    "\n",
    "# robot = Robot(left=(7, 8), right=(9, 10)) \n",
    "# left_sensor = LineSensor(17)\n",
    "# right_sensor= LineSensor(27)\n",
    "\n",
    "# speed = 0.65\n",
    "\n",
    "# def motor_speed():\n",
    "#     while True:\n",
    "#         left_detect  = int(left_sensor.value)\n",
    "#         right_detect = int(right_sensor.value)\n",
    "#         ## Stage 1\n",
    "#         if left_detect == 0 and right_detect == 0:\n",
    "#             left_mot = 1\n",
    "#             right_mot = 1\n",
    "#         ## Stage 2\n",
    "#         if left_detect == 0 and right_detect == 1:\n",
    "#             left_mot = -1\n",
    "#         if left_detect == 1 and right_detect == 0:\n",
    "#             right_mot = -1\n",
    "#         #print(r, l)\n",
    "#         yield (right_mot * speed, left_mot * speed)\n",
    "\n",
    "# robot.source = motor_speed()\n",
    "\n",
    "# sleep(60)\n",
    "# robot.stop()\n",
    "# robot.source = None\n",
    "# robot.close()\n",
    "# left_sensor.close()\n",
    "# right_sensor.close()\n"
   ]
  },
  {
   "cell_type": "code",
   "execution_count": 24,
   "id": "1b7afb46",
   "metadata": {},
   "outputs": [
    {
     "name": "stdout",
     "output_type": "stream",
     "text": [
      "the average of a and b is: 15.0\n",
      "the average of a and b is: 7.5\n",
      "the name is: Gajendra Bahadur Kunwar\n",
      "the name is:  john doe\n",
      "the average is: 30.0\n",
      "<class 'dict'>\n",
      "the name is: Gajendra Bahadur Kunwar\n"
     ]
    }
   ],
   "source": [
    "def average(a, b = 5):\n",
    "    print(\"the average of a and b is:\", (a + b) / 2)\n",
    "\n",
    "average (10, 20)\n",
    "average (10)\n",
    "\n",
    "\n",
    "def name (fname, mname = \"john\", lname = \"doe\"):\n",
    "    print(\"the name is:\", fname, mname, lname)\n",
    "name(\"Gajendra\", \"Bahadur\", \"Kunwar\")\n",
    "name(\"\")\n",
    "    \n",
    "def avg (*numbers):\n",
    "    sum = 0\n",
    "    for i in numbers:\n",
    "        sum = sum + i\n",
    "    # print(\"the average is:\", sum / len(numbers))\n",
    "    return sum / len(numbers)\n",
    "c = avg(10, 20, 30, 40, 50)\n",
    "print(\"the average is:\", c)\n",
    "\n",
    "def nme(**names):\n",
    "    print(type(names))\n",
    "    print(\"the name is:\", names[\"fname\"], names[\"mname\"], names[\"lname\"])\n",
    "\n",
    "nme(lname=\"Kunwar\", fname=\"Gajendra\", mname=\"Bahadur\" )"
   ]
  },
  {
   "cell_type": "code",
   "execution_count": 25,
   "id": "39858cb5",
   "metadata": {},
   "outputs": [
    {
     "name": "stderr",
     "output_type": "stream",
     "text": [
      "ERROR: Invalid requirement: '#': Expected package name at the start of dependency specifier\n",
      "    #\n",
      "    ^\n"
     ]
    },
    {
     "name": "stdout",
     "output_type": "stream",
     "text": [
      "Note: you may need to restart the kernel to use updated packages.\n"
     ]
    }
   ],
   "source": [
    "%pip install psycopg2-binary # type: ignore\n",
    "import psycopg2\n"
   ]
  },
  {
   "cell_type": "markdown",
   "id": "bc9d4de8",
   "metadata": {},
   "source": [
    "# Function Arguments and return statements\n"
   ]
  },
  {
   "cell_type": "code",
   "execution_count": 26,
   "id": "e4580760",
   "metadata": {},
   "outputs": [
    {
     "name": "stdout",
     "output_type": "stream",
     "text": [
      "The average is: 30.0\n"
     ]
    }
   ],
   "source": [
    "def average(*numbers):\n",
    "    sum = 0\n",
    "    for i in numbers:\n",
    "        sum += i\n",
    "    return sum / len(numbers)\n",
    "c = average(10, 20, 30, 40, 50)\n",
    "print(\"The average is:\", c)"
   ]
  },
  {
   "cell_type": "markdown",
   "id": "d549efd4",
   "metadata": {},
   "source": [
    "# Lists"
   ]
  },
  {
   "cell_type": "code",
   "execution_count": 27,
   "id": "f438dca0",
   "metadata": {},
   "outputs": [
    {
     "name": "stdout",
     "output_type": "stream",
     "text": [
      "[10, 20, 30, 40, 50]\n",
      "<class 'list'>\n",
      "10\n"
     ]
    }
   ],
   "source": [
    "marks = [10, 20, 30, 40, 50]\n",
    "print(marks)\n",
    "print(type(marks))\n",
    "print(marks[0])"
   ]
  },
  {
   "cell_type": "code",
   "execution_count": 28,
   "id": "73cf0701",
   "metadata": {},
   "outputs": [
    {
     "name": "stdout",
     "output_type": "stream",
     "text": [
      "No\n"
     ]
    }
   ],
   "source": [
    "mark = [10, 20, 30, 40, 50]\n",
    "if 7 in mark:\n",
    "    print(\"Yes\")\n",
    "else:\n",
    "    print(\"No\")"
   ]
  },
  {
   "cell_type": "code",
   "execution_count": 29,
   "id": "970328c8",
   "metadata": {},
   "outputs": [
    {
     "name": "stdout",
     "output_type": "stream",
     "text": [
      "[0, 1, 2, 3, 4, 5, 6, 7, 8, 9]\n",
      "[0, 2, 4, 6, 8]\n"
     ]
    }
   ],
   "source": [
    "lst = [i for i in range(10)]\n",
    "print (lst)\n",
    "lst = [i for i in range(10) if i%2 == 0]\n",
    "print (lst)"
   ]
  },
  {
   "cell_type": "markdown",
   "id": "43d2824d",
   "metadata": {},
   "source": [
    "# List Methods"
   ]
  },
  {
   "cell_type": "code",
   "execution_count": 30,
   "id": "130e3f9d",
   "metadata": {},
   "outputs": [
    {
     "name": "stdout",
     "output_type": "stream",
     "text": [
      "[11, 45, 1, 2, 3, 4, 5]\n",
      "[11, 45, 1, 2, 3, 4, 5, 6]\n",
      "[11, 45, 1, 2, 3, 4, 5, 6, 7, 8, 9]\n"
     ]
    }
   ],
   "source": [
    "l = [11,45,1, 2, 3, 4, 5 ]\n",
    "print (l)\n",
    "l.append(6)\n",
    "print(l)\n",
    "# l.sort()\n",
    "# print(l)\n",
    "# l.reverse()\n",
    "# print(l)\n",
    "# l.insert(2, 99)\n",
    "# print(l)\n",
    "l.extend([7, 8, 9])\n",
    "print(l)"
   ]
  },
  {
   "cell_type": "markdown",
   "id": "c7d86634",
   "metadata": {},
   "source": [
    "# Tuples"
   ]
  },
  {
   "cell_type": "code",
   "execution_count": 31,
   "id": "b3dc34a4",
   "metadata": {},
   "outputs": [
    {
     "name": "stdout",
     "output_type": "stream",
     "text": [
      "<class 'tuple'> (1, 2, 3, 4, 5)\n"
     ]
    }
   ],
   "source": [
    "tup = (1, 2, 3, 4, 5)\n",
    "print(type(tup),tup)"
   ]
  },
  {
   "cell_type": "code",
   "execution_count": 32,
   "id": "f0779a45",
   "metadata": {},
   "outputs": [
    {
     "name": "stdout",
     "output_type": "stream",
     "text": [
      "<class 'int'> 1\n"
     ]
    }
   ],
   "source": [
    "tup = (1)\n",
    "print(type(tup), tup)"
   ]
  },
  {
   "cell_type": "code",
   "execution_count": 33,
   "id": "86fe3a2f",
   "metadata": {},
   "outputs": [
    {
     "name": "stdout",
     "output_type": "stream",
     "text": [
      "(2, 3, 4, 5)\n"
     ]
    }
   ],
   "source": [
    "tup = (1, 2, 3, 4, 5, 6, 7, 8, 9, 10)\n",
    "#print(type(tup), tup)\n",
    "tup2 = tup[1:5]\n",
    "print (tup2)"
   ]
  },
  {
   "cell_type": "markdown",
   "id": "6734b476",
   "metadata": {},
   "source": [
    "<h3>Touple operations"
   ]
  },
  {
   "cell_type": "code",
   "execution_count": 34,
   "id": "254a7932",
   "metadata": {},
   "outputs": [
    {
     "name": "stdout",
     "output_type": "stream",
     "text": [
      "('USA', 'france', 'finland', 'italy', 'Nepal', 'India')\n"
     ]
    }
   ],
   "source": [
    "countries = (\"spain\", \"france\", \"germany\", \"italy\", \"Nepal\")\n",
    "temp: list[str] = list(countries)        # Explicitly declare as list of strings\n",
    "temp.append('India')                     #add item to the list\n",
    "temp.pop(0)                              #remove first item\n",
    "temp.insert(0, \"USA\")                    # insert \"USA\" at the beginning\n",
    "temp[2] = \"finland\"                      # replace the third item with \"finland\"\n",
    "countries = tuple(temp)                  # Convert back to tuple\n",
    "print(countries)"
   ]
  },
  {
   "cell_type": "code",
   "execution_count": 35,
   "id": "fc131566",
   "metadata": {},
   "outputs": [
    {
     "name": "stdout",
     "output_type": "stream",
     "text": [
      "Current time: 21:49:08\n",
      "Current hour: 21:49:08\n",
      "Current minute: 49\n",
      "Current second: 13\n",
      "Good Morning\n"
     ]
    }
   ],
   "source": [
    "import time \n",
    "timestamp = time.strftime('%H:%M:%S')\n",
    "print(\"Current time:\", timestamp)\n",
    "hour = int(time.strftime('%H'))\n",
    "hour = int(input(\"Enter the hour: \"))\n",
    "print(\"Current hour:\", timestamp)\n",
    "timestamp = time.strftime('%M')\n",
    "print(\"Current minute:\", timestamp)\n",
    "timestamp = time.strftime('%S')\n",
    "print(\"Current second:\", timestamp)\n",
    "\n",
    "if (hour>0 and hour<12):\n",
    "    print(\"Good Morning\")\n",
    "elif (hour>=12 and hour<17):\n",
    "    print(\"Good Afternoon\")\n",
    "elif (hour>=17 and hour<20):\n",
    "    print(\"Good Evening\")\n",
    "else:\n",
    "    print(\"Good Night\")\n"
   ]
  },
  {
   "cell_type": "markdown",
   "id": "3ee38f74",
   "metadata": {},
   "source": [
    "# f strings"
   ]
  },
  {
   "cell_type": "code",
   "execution_count": 36,
   "id": "1d0ef91e",
   "metadata": {},
   "outputs": [
    {
     "name": "stdout",
     "output_type": "stream",
     "text": [
      "hey my name is 22 and I am Gajendra years old\n",
      "hey my name is Gajendra and I am 22 years old\n"
     ]
    }
   ],
   "source": [
    "latter = \"hey my name is {} and I am {} years old\"\n",
    "name = \"Gajendra\"\n",
    "age = 22\n",
    "\n",
    "latter = latter.format(age, name)\n",
    "print(latter)\n",
    "\n",
    "print(f\"hey my name is {name} and I am {age} years old\")"
   ]
  },
  {
   "cell_type": "markdown",
   "id": "8bdc62c3",
   "metadata": {},
   "source": [
    "# Doc strings"
   ]
  },
  {
   "cell_type": "code",
   "execution_count": 37,
   "id": "2ff8307a",
   "metadata": {},
   "outputs": [
    {
     "name": "stdout",
     "output_type": "stream",
     "text": [
      "25\n",
      "This function returns the square of a number.\n"
     ]
    }
   ],
   "source": [
    "def squre(num):\n",
    "    # num = 3\n",
    "    \"\"\"This function returns the square of a number.\"\"\"\n",
    "    return num * num\n",
    "print(squre(5))\n",
    "\n",
    "print(squre.__doc__)"
   ]
  },
  {
   "cell_type": "code",
   "execution_count": 38,
   "id": "9a716a05",
   "metadata": {},
   "outputs": [
    {
     "name": "stdout",
     "output_type": "stream",
     "text": [
      "The Zen of Python, by Tim Peters\n",
      "\n",
      "Beautiful is better than ugly.\n",
      "Explicit is better than implicit.\n",
      "Simple is better than complex.\n",
      "Complex is better than complicated.\n",
      "Flat is better than nested.\n",
      "Sparse is better than dense.\n",
      "Readability counts.\n",
      "Special cases aren't special enough to break the rules.\n",
      "Although practicality beats purity.\n",
      "Errors should never pass silently.\n",
      "Unless explicitly silenced.\n",
      "In the face of ambiguity, refuse the temptation to guess.\n",
      "There should be one-- and preferably only one --obvious way to do it.\n",
      "Although that way may not be obvious at first unless you're Dutch.\n",
      "Now is better than never.\n",
      "Although never is often better than *right* now.\n",
      "If the implementation is hard to explain, it's a bad idea.\n",
      "If the implementation is easy to explain, it may be a good idea.\n",
      "Namespaces are one honking great idea -- let's do more of those!\n"
     ]
    }
   ],
   "source": [
    "import this # This will print the Zen of Python, a collection of guiding principles for writing computer programs in Python."
   ]
  },
  {
   "cell_type": "markdown",
   "id": "4e992a7d",
   "metadata": {},
   "source": [
    "# Recursion"
   ]
  },
  {
   "cell_type": "code",
   "execution_count": 39,
   "id": "db1fb235",
   "metadata": {},
   "outputs": [
    {
     "name": "stdout",
     "output_type": "stream",
     "text": [
      "120\n"
     ]
    }
   ],
   "source": [
    "\"\"\"This function returns the factorial of a number.\"\"\"\n",
    "def factorial(n):\n",
    "    \n",
    "    if n == 0 or n == 1:\n",
    "        return 1\n",
    "    else:\n",
    "        return n * factorial(n - 1)\n",
    "print(factorial(5))"
   ]
  },
  {
   "cell_type": "markdown",
   "id": "bea1dc40",
   "metadata": {},
   "source": [
    "# Sets\n"
   ]
  },
  {
   "cell_type": "code",
   "execution_count": null,
   "id": "6bc68c10",
   "metadata": {},
   "outputs": [
    {
     "name": "stdout",
     "output_type": "stream",
     "text": [
      "{False, 18, 'Gajendra', 5.9}\n"
     ]
    }
   ],
   "source": [
    "info = {\"Gajendra\", 18, False, 5.9, 18}\n",
    "print(info)"
   ]
  },
  {
   "cell_type": "code",
   "execution_count": 41,
   "id": "90e69b1a",
   "metadata": {},
   "outputs": [
    {
     "name": "stdout",
     "output_type": "stream",
     "text": [
      "{2, 4, 6}\n"
     ]
    }
   ],
   "source": [
    "s = {2, 4, 2, 6, 4}\n",
    "print(s)"
   ]
  },
  {
   "cell_type": "code",
   "execution_count": null,
   "id": "3a1cfc87",
   "metadata": {},
   "outputs": [],
   "source": []
  },
  {
   "cell_type": "code",
   "execution_count": null,
   "id": "5b20069e",
   "metadata": {},
   "outputs": [],
   "source": []
  },
  {
   "cell_type": "code",
   "execution_count": null,
   "id": "be44d818",
   "metadata": {},
   "outputs": [],
   "source": []
  }
 ],
 "metadata": {
  "kernelspec": {
   "display_name": "Python 3",
   "language": "python",
   "name": "python3"
  },
  "language_info": {
   "codemirror_mode": {
    "name": "ipython",
    "version": 3
   },
   "file_extension": ".py",
   "mimetype": "text/x-python",
   "name": "python",
   "nbconvert_exporter": "python",
   "pygments_lexer": "ipython3",
   "version": "3.13.3"
  }
 },
 "nbformat": 4,
 "nbformat_minor": 5
}
