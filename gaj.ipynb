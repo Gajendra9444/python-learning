{
 "cells": [
  {
   "cell_type": "code",
   "execution_count": null,
   "id": "7361f126",
   "metadata": {},
   "outputs": [
    {
     "name": "stdout",
     "output_type": "stream",
     "text": [
      "hey~6~7nullgajendra\n"
     ]
    }
   ],
   "source": [
    "print(\"hey\", 6, 7, sep=\"~\", end=\"null\\n\")\n",
    "print(\"gajendra\")"
   ]
  },
  {
   "cell_type": "markdown",
   "id": "0a483c51",
   "metadata": {},
   "source": [
    "variables"
   ]
  },
  {
   "cell_type": "code",
   "execution_count": 17,
   "id": "1c430f77",
   "metadata": {},
   "outputs": [
    {
     "name": "stdout",
     "output_type": "stream",
     "text": [
      "94\n",
      "gajju\n",
      "None\n",
      "193.9\n",
      "(10+2j)\n",
      "type of a is: <class 'int'>\n",
      "type of b is: <class 'str'>\n",
      "type of c is: <class 'NoneType'>\n",
      "type of d is: <class 'float'>\n",
      "type of e is: <class 'bool'>\n",
      "type of f is: <class 'complex'>\n"
     ]
    }
   ],
   "source": [
    "a = 94\n",
    "print(a)\n",
    "b =\"gajju\"\n",
    "print(b)\n",
    "c = None\n",
    "print(c)\n",
    "d= 99.9\n",
    "print(a+d)\n",
    "e= True \n",
    "f= complex(10, 2)\n",
    "print(f)\n",
    "\n",
    "print(\"type of a is:\", type(a))\n",
    "print(\"type of b is:\", type(b))\n",
    "print(\"type of c is:\", type(c))\n",
    "print(\"type of d is:\", type(d))\n",
    "print(\"type of e is:\", type(e))\n",
    "print(\"type of f is:\", type(f))"
   ]
  },
  {
   "cell_type": "code",
   "execution_count": 18,
   "id": "fff05a51",
   "metadata": {},
   "outputs": [
    {
     "name": "stdout",
     "output_type": "stream",
     "text": [
      "{'name': 'gajju', 'age': 22, 'canvote': True}\n"
     ]
    }
   ],
   "source": [
    "dict1 = {\"name\":\"gajju\", \"age\": 22, \"canvote\": True}\n",
    "print(dict1)"
   ]
  },
  {
   "cell_type": "markdown",
   "id": "15c252f9",
   "metadata": {},
   "source": [
    "Operators"
   ]
  },
  {
   "cell_type": "code",
   "execution_count": 21,
   "id": "c494974f",
   "metadata": {},
   "outputs": [
    {
     "name": "stdout",
     "output_type": "stream",
     "text": [
      "11\n",
      "9\n",
      "90\n",
      "2.5\n",
      "2\n",
      "3125\n",
      "3\n"
     ]
    }
   ],
   "source": [
    "print(5+6)\n",
    "print(15 - 6)\n",
    "print(15 * 6)\n",
    "print(15/6)\n",
    "print(15//6)\n",
    "print(5**5)\n",
    "print(15%6)"
   ]
  },
  {
   "cell_type": "code",
   "execution_count": 2,
   "id": "d7d72bbc",
   "metadata": {},
   "outputs": [
    {
     "name": "stdout",
     "output_type": "stream",
     "text": [
      "3\n"
     ]
    }
   ],
   "source": [
    "a = \"1\"\n",
    "b = \"2\"\n",
    "print(int(a)+int(b))"
   ]
  },
  {
   "cell_type": "code",
   "execution_count": null,
   "id": "626651ea",
   "metadata": {},
   "outputs": [
    {
     "name": "stdout",
     "output_type": "stream",
     "text": [
      "My name is Gajju\n"
     ]
    }
   ],
   "source": [
    "a = input(\"Enter a name \")\n",
    "print(\"My name is\", a)\n",
    "\n"
   ]
  },
  {
   "cell_type": "code",
   "execution_count": 9,
   "id": "bb018eab",
   "metadata": {},
   "outputs": [
    {
     "name": "stdout",
     "output_type": "stream",
     "text": [
      "121\n",
      "13\n"
     ]
    }
   ],
   "source": [
    "x = input(\"enter firdt number\")\n",
    "y = input(\"enter second number\")\n",
    "print(x+y)\n",
    "\n",
    "print(int(x) + int(y))"
   ]
  },
  {
   "cell_type": "markdown",
   "id": "49737920",
   "metadata": {},
   "source": [
    "String"
   ]
  },
  {
   "cell_type": "code",
   "execution_count": 17,
   "id": "e9f67c70",
   "metadata": {},
   "outputs": [
    {
     "name": "stdout",
     "output_type": "stream",
     "text": [
      "Hello Gajendra\n",
      "G\n",
      "a\n",
      "j\n",
      "e\n",
      "n\n",
      "d\n",
      "r\n",
      "a\n"
     ]
    }
   ],
   "source": [
    "name = \"Gajendra\"\n",
    "friend = \"Gaurav\"\n",
    "\n",
    "print(\"Hello\", name)\n",
    "# print(name[0])\n",
    "# print(name[1])\n",
    "# print(name[2])\n",
    "# print(name[3])\n",
    "# print(name[4])\n",
    "# print(friend[0])\n",
    "\n",
    "\n",
    "for character in name:\n",
    "    print(character)"
   ]
  },
  {
   "cell_type": "markdown",
   "id": "a8484845",
   "metadata": {},
   "source": [
    "String Slicing"
   ]
  },
  {
   "cell_type": "code",
   "execution_count": 22,
   "id": "705b549d",
   "metadata": {},
   "outputs": [
    {
     "name": "stdout",
     "output_type": "stream",
     "text": [
      "Gajendra, \n",
      "5\n",
      "mang\n",
      "ar\n"
     ]
    }
   ],
   "source": [
    "name = \"Gajendra, Gaurav\"\n",
    "print(name[0:10])\n",
    "\n",
    "fruit = \"mango\"\n",
    "mangolen = len(fruit)\n",
    "print(mangolen)\n",
    "print(fruit[0:4])\n",
    "nm = \"Harry\"\n",
    "print(nm[-4:-2]) "
   ]
  },
  {
   "cell_type": "markdown",
   "id": "5f3c920c",
   "metadata": {},
   "source": [
    "String Methods"
   ]
  },
  {
   "cell_type": "code",
   "execution_count": 41,
   "id": "5629300c",
   "metadata": {},
   "outputs": [
    {
     "name": "stdout",
     "output_type": "stream",
     "text": [
      "5\n",
      "GAJJU\n",
      "gajju\n",
      "!!gajju!!!!!!! gajju\n",
      "gajendra\n",
      "['!!gajju!!!!!!!', 'gajju']\n",
      "Introduction to js\n",
      "2\n",
      "False\n",
      "-1\n"
     ]
    }
   ],
   "source": [
    "# string are imutable\n",
    "\n",
    "a = \"Gajju\"\n",
    "print(len(a))\n",
    "print(a.upper())\n",
    "print(a.lower())\n",
    "\n",
    "b= \"!!gajju!!!!!!! gajju\"\n",
    "print(b.rstrip(\"!\"))\n",
    "\n",
    "print(a.replace(\"Gajju\", \"gajendra\"))\n",
    "print(b.split(\" \"))\n",
    "\n",
    "blogHeading = \"introduction tO jS\"\n",
    "print(blogHeading.capitalize())\n",
    "\n",
    "print(b.count(\"gajju\"))\n",
    "print(b.endswith(\"!!!\"))\n",
    "\n",
    "str1 = \"He's name is Bharat. He is an honest men.\"\n",
    "print(str1.find(\"ishh\"))\n",
    "# print(str1.index(\"ishh\"))\n",
    "\n"
   ]
  },
  {
   "cell_type": "markdown",
   "id": "0c7b9a0c",
   "metadata": {},
   "source": [
    "If Else Statement"
   ]
  },
  {
   "cell_type": "code",
   "execution_count": 45,
   "id": "7a3f8ed2",
   "metadata": {},
   "outputs": [
    {
     "name": "stdout",
     "output_type": "stream",
     "text": [
      "your age is: 34\n",
      "you can drive\n"
     ]
    }
   ],
   "source": [
    "a = int(input(\"enter the age\"))\n",
    "print(\"your age is:\", a)\n",
    "\n",
    "\n",
    "if (a>18):\n",
    "    print(\"you can drive\")\n",
    "else:\n",
    "    print(\"you can't drive\")\n"
   ]
  },
  {
   "cell_type": "code",
   "execution_count": null,
   "id": "c96d655f",
   "metadata": {},
   "outputs": [
    {
     "name": "stdout",
     "output_type": "stream",
     "text": [
      "you cannot buy the appple\n"
     ]
    }
   ],
   "source": [
    "applePrice = 210\n",
    "budget = 200\n",
    "\n",
    "if(applePrice <= budget):\n",
    "    print(\"you can buy the aplle\")\n",
    "else:\n",
    "    print(\"you cannot buy the appple\")\n",
    "\n",
    "\n"
   ]
  },
  {
   "cell_type": "code",
   "execution_count": 2,
   "id": "2c10f3ea",
   "metadata": {},
   "outputs": [
    {
     "name": "stdout",
     "output_type": "stream",
     "text": [
      "the number is positive.\n",
      "the value is perfect\n"
     ]
    }
   ],
   "source": [
    "num = int(input(\"enter the value of num:\"))\n",
    "\n",
    "if(num<0):\n",
    "    print(\"number is negative.\")\n",
    "elif(num == 0):\n",
    "    print(\"number is zero.\")\n",
    "elif(num == 94):\n",
    "    print(\"the number is special.\")\n",
    "else:\n",
    "    print(\"the number is positive.\")\n",
    "\n",
    "\n",
    "print(\"the value is perfect\")"
   ]
  },
  {
   "cell_type": "markdown",
   "id": "ebd88380",
   "metadata": {},
   "source": [
    "nested if statemnt"
   ]
  },
  {
   "cell_type": "code",
   "execution_count": 5,
   "id": "0dafa0f0",
   "metadata": {},
   "outputs": [
    {
     "name": "stdout",
     "output_type": "stream",
     "text": [
      "the number is zero.\n"
     ]
    }
   ],
   "source": [
    "num= int(input(\"enter the number\"))\n",
    "\n",
    "if (num < 0):\n",
    "    print(\"the number is negative.\")\n",
    "elif (num > 0):\n",
    "    if(num <= 10):\n",
    "        print(\"the number is betwen 0-10.\")\n",
    "    elif(num >10 and num<= 20):\n",
    "        print(\"the number is between 11-20.\")\n",
    "    else:\n",
    "        print(\"the number is greater than 20.\")\n",
    "else:\n",
    "    print(\"the number is zero.\")"
   ]
  },
  {
   "cell_type": "code",
   "execution_count": 17,
   "id": "d67230c9",
   "metadata": {},
   "outputs": [
    {
     "name": "stdout",
     "output_type": "stream",
     "text": [
      "23:33:04\n",
      "23\n",
      "33\n",
      "04\n"
     ]
    }
   ],
   "source": [
    "import time\n",
    "timestamp = time.strftime('%H:%M:%S')\n",
    "print(timestamp)\n",
    "timestamp = time.strftime('%H')\n",
    "print(timestamp)\n",
    "timestamp = time.strftime('%M')\n",
    "print(timestamp)\n",
    "timestamp = time.strftime('%S')\n",
    "print(timestamp)\n",
    "\n",
    "\n",
    "# if 5 <= timestamp < 12:\n",
    "#     print(\"Good Morning\")\n",
    "\n"
   ]
  },
  {
   "cell_type": "code",
   "execution_count": 1,
   "id": "4041c5ee",
   "metadata": {},
   "outputs": [
    {
     "name": "stdout",
     "output_type": "stream",
     "text": [
      "today is sunday\n"
     ]
    }
   ],
   "source": [
    "x = int(input(\"enter the value of x:\"))\n",
    "\n",
    "match x:\n",
    "\n",
    "    case _ if x==1:\n",
    "        print(\"today is sunday\")\n",
    "\n",
    "    case _ if x==2:\n",
    "        print(\"today is monday\")\n",
    "\n",
    "    case _ if x==3:\n",
    "        print(\"today is tuesday\")\n",
    "\n",
    "    case _ if x==4:\n",
    "        print(\"today is wednesday\")\n",
    "\n",
    "    case _ if x==5:\n",
    "        print(\"yoday is thrusday\")\n",
    "\n",
    "    case _ if x==6:\n",
    "        print(\"today is friday\")\n",
    "\n",
    "    case _ :\n",
    "        print(\"it's saturday\")\n"
   ]
  },
  {
   "cell_type": "markdown",
   "id": "b453ea63",
   "metadata": {},
   "source": [
    "For Loops"
   ]
  },
  {
   "cell_type": "code",
   "execution_count": 10,
   "id": "3a273a29",
   "metadata": {},
   "outputs": [
    {
     "name": "stdout",
     "output_type": "stream",
     "text": [
      "G\n",
      "a\n",
      "j\n",
      "e\n",
      "n\n",
      "d\n",
      "r\n",
      "a\n"
     ]
    }
   ],
   "source": [
    "name = \"Gajendra\"\n",
    "for i in name:\n",
    "    print(i)\n",
    "\n",
    "\n",
    "# colors = [\"red\",\"green\",\"b;ue\", \"yellow\"]\n",
    "# for color in colors:\n",
    "#     print(color)\n",
    "#     for i in color:\n",
    "#         print(i)"
   ]
  },
  {
   "cell_type": "code",
   "execution_count": 9,
   "id": "724e15ba",
   "metadata": {},
   "outputs": [
    {
     "name": "stdout",
     "output_type": "stream",
     "text": [
      "1\n",
      "2\n",
      "3\n",
      "4\n",
      "5\n",
      "1\n",
      "4\n",
      "7\n",
      "10\n"
     ]
    }
   ],
   "source": [
    "for k in range(5):\n",
    "    print(k+1)\n",
    "\n",
    "# for k in range(1, 20000):\n",
    "#     print(k)\n",
    "\n",
    "for k in range(1, 12, 3):\n",
    "    print(k)"
   ]
  },
  {
   "cell_type": "markdown",
   "id": "cb0a1755",
   "metadata": {},
   "source": [
    "While loops"
   ]
  },
  {
   "cell_type": "code",
   "execution_count": null,
   "id": "bb948ea6",
   "metadata": {},
   "outputs": [
    {
     "name": "stdout",
     "output_type": "stream",
     "text": [
      "0\n",
      "1\n",
      "2\n",
      "3\n",
      "4\n",
      "5\n",
      "4\n",
      "3\n",
      "2\n",
      "1\n"
     ]
    }
   ],
   "source": [
    "i =0 \n",
    "while (i<5):\n",
    "    print(i)\n",
    "    i = i+1\n",
    "\n",
    "\n",
    "# i = int(input(\"enter the number:\"))\n",
    "# while (i<=30):\n",
    "#     i = int(input(\"enter the number\"))\n",
    "#     print(i)\n",
    "\n",
    "\n",
    "count = 5\n",
    "while(count>0):\n",
    "    print(count)\n",
    "    count = count - 1\n",
    "\n",
    "\n",
    "\n"
   ]
  },
  {
   "cell_type": "markdown",
   "id": "7f00aa6d",
   "metadata": {},
   "source": [
    "# Break and Continue"
   ]
  },
  {
   "cell_type": "code",
   "execution_count": 13,
   "id": "4900c670",
   "metadata": {},
   "outputs": [
    {
     "name": "stdout",
     "output_type": "stream",
     "text": [
      "5 X 0 = 0\n",
      "5 X 1 = 5\n",
      "5 X 2 = 10\n",
      "5 X 3 = 15\n",
      "5 X 4 = 20\n",
      "5 X 5 = 25\n",
      "5 X 6 = 30\n",
      "5 X 7 = 35\n",
      "5 X 8 = 40\n",
      "5 X 9 = 45\n",
      "Skip the itteration\n",
      "5 X 11 = 55\n"
     ]
    }
   ],
   "source": [
    "# for i in range(10):\n",
    "#     if(i == 10):\n",
    "#         break\n",
    "    \n",
    "#     print(\"5 X\", i+1, \"=\", 5 * (i+1))\n",
    "\n",
    "    \n",
    "# print(\"the loop is executed\")\n",
    "\n",
    "\n",
    "\n",
    "for i in range(12):\n",
    "    if(i == 10):\n",
    "        print(\"Skip the itteration\")\n",
    "        continue\n",
    "    print(\"5 X\", i, \"=\", 5 * i)\n",
    "\n",
    "\n",
    "# i = 0\n",
    "# while True:\n",
    "#     print(i)\n",
    "#     i = i + 1\n",
    "#     if(i % 100 == 0):\n",
    "#         break\n"
   ]
  },
  {
   "cell_type": "markdown",
   "id": "b98e12f9",
   "metadata": {},
   "source": [
    "# Functions"
   ]
  },
  {
   "cell_type": "code",
   "execution_count": 33,
   "id": "fcce1ab8",
   "metadata": {},
   "outputs": [
    {
     "name": "stdout",
     "output_type": "stream",
     "text": [
      "4.444444444444445\n",
      "first is greater\n",
      "3.3333333333333335\n",
      "first is greater\n"
     ]
    }
   ],
   "source": [
    "def calculateGmean(a, b):\n",
    "    mean = (a*b)/(a+b)\n",
    "    print(mean)\n",
    "\n",
    "\n",
    "\n",
    "def isgreater(a, b):\n",
    "    if(a>b):\n",
    "        print(\"first is greater\")\n",
    "    else:\n",
    "        print(\"second is greater or equal\")\n",
    "\n",
    "\n",
    "a = 10\n",
    "b = 8\n",
    "\n",
    "calculateGmean(a, b)\n",
    "isgreater(a,b)\n",
    "# if(a>b):\n",
    "#     print(\"first is greater\")\n",
    "# else:\n",
    "#     print(\"second is greater or equal\")\n",
    "\n",
    "\n",
    "# gmean1 = (a*b)/(a+b)\n",
    "# print(gmean1)\n",
    "\n",
    "\n",
    "c = 20\n",
    "d = 4\n",
    "# if(c>d):\n",
    "#     print(\"first is greater\")\n",
    "# else:\n",
    "#     print(\"second is greater or equal\")\n",
    "calculateGmean(c, d)\n",
    "isgreater(c,d)\n",
    "    # gmean1 = (c*d)/(a+d)\n",
    "    # print(gmean1)\n"
   ]
  },
  {
   "cell_type": "code",
   "execution_count": 1,
   "id": "67701a5d",
   "metadata": {},
   "outputs": [],
   "source": [
    "# from gpiozero import Robot, LineSensor # type: ignore\n",
    "# from time import sleep\n",
    "\n",
    "# robot = Robot(left=(7, 8), right=(9, 10)) \n",
    "# left_sensor = LineSensor(17)\n",
    "# right_sensor= LineSensor(27)\n",
    "\n",
    "# speed = 0.65\n",
    "\n",
    "# def motor_speed():\n",
    "#     while True:\n",
    "#         left_detect  = int(left_sensor.value)\n",
    "#         right_detect = int(right_sensor.value)\n",
    "#         ## Stage 1\n",
    "#         if left_detect == 0 and right_detect == 0:\n",
    "#             left_mot = 1\n",
    "#             right_mot = 1\n",
    "#         ## Stage 2\n",
    "#         if left_detect == 0 and right_detect == 1:\n",
    "#             left_mot = -1\n",
    "#         if left_detect == 1 and right_detect == 0:\n",
    "#             right_mot = -1\n",
    "#         #print(r, l)\n",
    "#         yield (right_mot * speed, left_mot * speed)\n",
    "\n",
    "# robot.source = motor_speed()\n",
    "\n",
    "# sleep(60)\n",
    "# robot.stop()\n",
    "# robot.source = None\n",
    "# robot.close()\n",
    "# left_sensor.close()\n",
    "# right_sensor.close()\n"
   ]
  },
  {
   "cell_type": "code",
   "execution_count": 32,
   "id": "1b7afb46",
   "metadata": {},
   "outputs": [
    {
     "name": "stdout",
     "output_type": "stream",
     "text": [
      "the average of a and b is: 15.0\n",
      "the average of a and b is: 7.5\n",
      "the name is: Gajendra Bahadur Kunwar\n",
      "the name is:  john doe\n",
      "the average is: 30.0\n",
      "<class 'dict'>\n",
      "the name is: Gajendra Bahadur Kunwar\n"
     ]
    }
   ],
   "source": [
    "def average(a, b = 5):\n",
    "    print(\"the average of a and b is:\", (a + b) / 2)\n",
    "\n",
    "average (10, 20)\n",
    "average (10)\n",
    "\n",
    "\n",
    "def name (fname, mname = \"john\", lname = \"doe\"):\n",
    "    print(\"the name is:\", fname, mname, lname)\n",
    "name(\"Gajendra\", \"Bahadur\", \"Kunwar\")\n",
    "name(\"\")\n",
    "    \n",
    "def avg (*numbers):\n",
    "    sum = 0\n",
    "    for i in numbers:\n",
    "        sum = sum + i\n",
    "    # print(\"the average is:\", sum / len(numbers))\n",
    "    return sum / len(numbers)\n",
    "c = avg(10, 20, 30, 40, 50)\n",
    "print(\"the average is:\", c)\n",
    "\n",
    "def nme(**names):\n",
    "    print(type(names))\n",
    "    print(\"the name is:\", names[\"fname\"], names[\"mname\"], names[\"lname\"])\n",
    "\n",
    "nme(lname=\"Kunwar\", fname=\"Gajendra\", mname=\"Bahadur\" )"
   ]
  },
  {
   "cell_type": "code",
   "execution_count": null,
   "id": "39858cb5",
   "metadata": {},
   "outputs": [
    {
     "name": "stdout",
     "output_type": "stream",
     "text": [
      "Collecting psycopg2-binary\n",
      "  Downloading psycopg2_binary-2.9.10-cp313-cp313-win_amd64.whl.metadata (4.8 kB)\n",
      "Downloading psycopg2_binary-2.9.10-cp313-cp313-win_amd64.whl (2.6 MB)\n",
      "   ---------------------------------------- 0.0/2.6 MB ? eta -:--:--\n",
      "   ---------------------------------------- 0.0/2.6 MB ? eta -:--:--\n",
      "   ---------------------------------------- 0.0/2.6 MB ? eta -:--:--\n",
      "   ---------------------------------------- 0.0/2.6 MB ? eta -:--:--\n",
      "   ---------------------------------------- 0.0/2.6 MB ? eta -:--:--\n",
      "   ---------------------------------------- 0.0/2.6 MB ? eta -:--:--\n",
      "   ---------------------------------------- 0.0/2.6 MB ? eta -:--:--\n",
      "   ---------------------------------------- 0.0/2.6 MB ? eta -:--:--\n",
      "   ---- ----------------------------------- 0.3/2.6 MB ? eta -:--:--\n",
      "   -------- ------------------------------- 0.5/2.6 MB 1.5 MB/s eta 0:00:02\n",
      "   -------- ------------------------------- 0.5/2.6 MB 1.5 MB/s eta 0:00:02\n",
      "   -------- ------------------------------- 0.5/2.6 MB 1.5 MB/s eta 0:00:02\n",
      "   -------- ------------------------------- 0.5/2.6 MB 1.5 MB/s eta 0:00:02\n",
      "   ------------ --------------------------- 0.8/2.6 MB 514.4 kB/s eta 0:00:04\n",
      "   ---------------- ----------------------- 1.0/2.6 MB 644.6 kB/s eta 0:00:03\n",
      "   -------------------- ------------------- 1.3/2.6 MB 702.4 kB/s eta 0:00:02\n",
      "   ------------------------ --------------- 1.6/2.6 MB 749.8 kB/s eta 0:00:02\n",
      "   ---------------------------- ----------- 1.8/2.6 MB 802.1 kB/s eta 0:00:01\n",
      "   ---------------------------- ----------- 1.8/2.6 MB 802.1 kB/s eta 0:00:01\n",
      "   ---------------------------- ----------- 1.8/2.6 MB 802.1 kB/s eta 0:00:01\n",
      "   ---------------------------- ----------- 1.8/2.6 MB 802.1 kB/s eta 0:00:01\n",
      "   -------------------------------- ------- 2.1/2.6 MB 648.4 kB/s eta 0:00:01\n",
      "   -------------------------------- ------- 2.1/2.6 MB 648.4 kB/s eta 0:00:01\n",
      "   ---------------------------------------- 2.6/2.6 MB 706.3 kB/s eta 0:00:00\n",
      "Installing collected packages: psycopg2-binary\n",
      "Successfully installed psycopg2-binary-2.9.10\n",
      "Note: you may need to restart the kernel to use updated packages.\n"
     ]
    }
   ],
   "source": [
    "pip install psycopg2-binary # type: ignore\n"
   ]
  },
  {
   "cell_type": "code",
   "execution_count": null,
   "id": "bc9d4de8",
   "metadata": {},
   "outputs": [],
   "source": [
    "import psycopg2\n"
   ]
  },
  {
   "cell_type": "code",
   "execution_count": null,
   "id": "e4580760",
   "metadata": {},
   "outputs": [],
   "source": []
  },
  {
   "cell_type": "code",
   "execution_count": null,
   "id": "d549efd4",
   "metadata": {},
   "outputs": [],
   "source": []
  }
 ],
 "metadata": {
  "kernelspec": {
   "display_name": "Python 3",
   "language": "python",
   "name": "python3"
  },
  "language_info": {
   "codemirror_mode": {
    "name": "ipython",
    "version": 3
   },
   "file_extension": ".py",
   "mimetype": "text/x-python",
   "name": "python",
   "nbconvert_exporter": "python",
   "pygments_lexer": "ipython3",
   "version": "3.13.3"
  }
 },
 "nbformat": 4,
 "nbformat_minor": 5
}
